{
 "cells": [
  {
   "cell_type": "code",
   "execution_count": 63,
   "id": "76b1dab8",
   "metadata": {},
   "outputs": [],
   "source": [
    "import torch\n",
    "from sklearn.datasets import make_moons\n",
    "from torch import nn, optim\n",
    "from torch.autograd import Variable\n",
    "from torchvision import transforms, datasets\n",
    "from torch.utils.data import DataLoader, TensorDataset\n",
    "from torchvision.utils import save_image\n",
    "import os\n",
    "import matplotlib.pyplot as plt\n",
    "from sklearn.datasets import make_moons, load_digits\n",
    "from sklearn.model_selection import train_test_split\n",
    "import numpy as np\n",
    "from torchvision.transforms.functional import rotate\n",
    "from scipy import ndimage"
   ]
  },
  {
   "cell_type": "code",
   "execution_count": 70,
   "id": "6b0e63f4",
   "metadata": {},
   "outputs": [],
   "source": [
    "class RealNVP(nn.Module):\n",
    "    def __init__(self, input_size, hidden_size, blocks):\n",
    "        super().__init__()\n",
    "        self.input_size = input_size\n",
    "        self.hidden_size = hidden_size\n",
    "        self.blocks = blocks\n",
    "        self.skip_connection_dimension = int(np.floor(input_size / 2))\n",
    "        self.transform_dimension = int(input_size - self.skip_connection_dimension)\n",
    "        \n",
    "        self.scalling_coefficient_network = nn.Sequential(\n",
    "            *[nn.Linear(self.skip_connection_dimension, self.hidden_size),\n",
    "              nn.Linear(self.hidden_size, self.hidden_size),\n",
    "              nn.ReLU(),\n",
    "              nn.Linear(self.hidden_size, self.hidden_size),\n",
    "              nn.ReLU(),\n",
    "              nn.Linear(self.hidden_size, self.transform_dimension),\n",
    "              nn.Tanh()]\n",
    "        )\n",
    "        \n",
    "        self.translation_coefficient_network = nn.Sequential(\n",
    "            *[nn.Linear(self.skip_connection_dimension, self.hidden_size),\n",
    "              nn.Linear(self.hidden_size, self.hidden_size),\n",
    "              nn.ReLU(),\n",
    "              nn.Linear(self.hidden_size, self.hidden_size),\n",
    "              nn.ReLU(),\n",
    "              nn.Linear(self.hidden_size, self.transform_dimension)]\n",
    "        )\n",
    "        \n",
    "    def forward(self, X):\n",
    "        for l in range(self.blocks):\n",
    "            X_skip = X[:, :self.skip_connection_dimension]\n",
    "            X_transform = X[:, self.skip_connection_dimension:]\n",
    "            s_tilde = self.scalling_coefficient_network(X_skip)\n",
    "            s = torch.exp(s_tilde)\n",
    "            t = self.translation_coefficient_network(X_skip)\n",
    "            X_transform = torch.mul(X_transform, s) + t\n",
    "            X = torch.cat((X_skip, X_transform), axis=1)\n",
    "            random_rotation_angle = np.random.uniform(-180, 180)\n",
    "            # Since multiplying a vector by an orthogonal matrix represents a rotation or reflection, \n",
    "            # we apply a rotation with random angle to improve performance. (Skip QR factorization of random matrix) \n",
    "            X = torch.from_numpy(ndimage.rotate(X.detach().numpy(), random_rotation_angle, reshape=False))\n",
    "        return X\n",
    "    \n",
    "    def train_inn(self, X_train,  ts_size, epochs, lr=0.001, batch_size=128):\n",
    "            assert ts_size % batch_size == 0\n",
    "            assert batch_size % 2 == 0\n",
    "            indices = torch.randperm(len(X_train))[:ts_size]\n",
    "            X_train = X_train[indices]\n",
    "            error_type = nn.NLLLoss()\n",
    "            optimizer = torch.optim.Adam(self.parameters(), lr=lr)\n",
    "            losses = []\n",
    "            for epoch in range(epochs):\n",
    "                for batch in range(0, ts_size - batch_size, batch_size):\n",
    "                    X_batch = X_train[batch : batch + batch_size]\n",
    "                    output = self.forward(X_batch)\n",
    "                    print(output.shape)\n",
    "                    print(X_batch.shape)\n",
    "                    loss = error_type(output, X_batch)\n",
    "                    losses.append(loss)\n",
    "                    optimizer.zero_grad()\n",
    "                    loss.backward()\n",
    "                    optimizer.step()\n",
    "\n",
    "\n",
    "            return self, losses\n",
    "\n",
    "        \n",
    "        "
   ]
  },
  {
   "cell_type": "code",
   "execution_count": null,
   "id": "d6cd2bca",
   "metadata": {},
   "outputs": [],
   "source": []
  },
  {
   "cell_type": "code",
   "execution_count": null,
   "id": "3a3ce7b0",
   "metadata": {},
   "outputs": [],
   "source": []
  },
  {
   "cell_type": "code",
   "execution_count": null,
   "id": "ba5205b0",
   "metadata": {},
   "outputs": [],
   "source": []
  },
  {
   "cell_type": "code",
   "execution_count": null,
   "id": "1ae03e62",
   "metadata": {},
   "outputs": [],
   "source": []
  },
  {
   "cell_type": "code",
   "execution_count": 56,
   "id": "c4bd354d",
   "metadata": {},
   "outputs": [],
   "source": [
    "def import_data(noise=0, random_state=1, shuffle=True, n_test=0.5, name=\"moons\", n_samples = 2000):\n",
    "    if name == \"moons\":\n",
    "        data, _ = make_moons(noise=noise, random_state=random_state, shuffle=shuffle, n_samples=n_samples)\n",
    "        X_train, X_test= train_test_split(data, test_size=n_test, random_state=random_state)\n",
    "        return torch.FloatTensor(X_train), torch.FloatTensor(X_test), None, None\n",
    "\n",
    "    elif name == \"digits\":\n",
    "        data, labels = load_digits(return_X_y = True)\n",
    "        data = data.reshape((len(data), -1))\n",
    "        noise =  np.random.normal(0, noise * data.max(), data.shape)\n",
    "        X_train, X_test, Y_train, Y_test = train_test_split(data, labels, test_size=n_test, random_state=random_state)\n",
    "        return torch.FloatTensor(X_train), torch.FloatTensor(X_test), torch.FloatTensor(Y_train), torch.FloatTensor(Y_test)"
   ]
  },
  {
   "cell_type": "code",
   "execution_count": 57,
   "id": "c401311b",
   "metadata": {},
   "outputs": [],
   "source": [
    "X_train, X_test, Y_train, Y_test = import_data(noise=0.1, n_test=0.5,  name=\"moons\")"
   ]
  },
  {
   "cell_type": "code",
   "execution_count": 71,
   "id": "1e24e0f9",
   "metadata": {},
   "outputs": [
    {
     "name": "stdout",
     "output_type": "stream",
     "text": [
      "torch.Size([128, 2])\n",
      "torch.Size([128, 2])\n"
     ]
    },
    {
     "ename": "RuntimeError",
     "evalue": "0D or 1D target tensor expected, multi-target not supported",
     "output_type": "error",
     "traceback": [
      "\u001b[1;31m---------------------------------------------------------------------------\u001b[0m",
      "\u001b[1;31mRuntimeError\u001b[0m                              Traceback (most recent call last)",
      "Cell \u001b[1;32mIn[71], line 1\u001b[0m\n\u001b[1;32m----> 1\u001b[0m nvp \u001b[38;5;241m=\u001b[39m RealNVP(\u001b[38;5;241m2\u001b[39m, \u001b[38;5;241m5\u001b[39m, \u001b[38;5;241m5\u001b[39m)\u001b[38;5;241m.\u001b[39mtrain_inn(X_train, \u001b[38;5;241m512\u001b[39m, \u001b[38;5;241m100\u001b[39m)\n",
      "Cell \u001b[1;32mIn[70], line 58\u001b[0m, in \u001b[0;36mRealNVP.train_inn\u001b[1;34m(self, X_train, ts_size, epochs, lr, batch_size)\u001b[0m\n\u001b[0;32m     56\u001b[0m \u001b[38;5;28mprint\u001b[39m(output\u001b[38;5;241m.\u001b[39mshape)\n\u001b[0;32m     57\u001b[0m \u001b[38;5;28mprint\u001b[39m(X_batch\u001b[38;5;241m.\u001b[39mshape)\n\u001b[1;32m---> 58\u001b[0m loss \u001b[38;5;241m=\u001b[39m error_type(output, X_batch)\n\u001b[0;32m     59\u001b[0m losses\u001b[38;5;241m.\u001b[39mappend(loss)\n\u001b[0;32m     60\u001b[0m optimizer\u001b[38;5;241m.\u001b[39mzero_grad()\n",
      "File \u001b[1;32m~\\anaconda3\\Lib\\site-packages\\torch\\nn\\modules\\module.py:1518\u001b[0m, in \u001b[0;36mModule._wrapped_call_impl\u001b[1;34m(self, *args, **kwargs)\u001b[0m\n\u001b[0;32m   1516\u001b[0m     \u001b[38;5;28;01mreturn\u001b[39;00m \u001b[38;5;28mself\u001b[39m\u001b[38;5;241m.\u001b[39m_compiled_call_impl(\u001b[38;5;241m*\u001b[39margs, \u001b[38;5;241m*\u001b[39m\u001b[38;5;241m*\u001b[39mkwargs)  \u001b[38;5;66;03m# type: ignore[misc]\u001b[39;00m\n\u001b[0;32m   1517\u001b[0m \u001b[38;5;28;01melse\u001b[39;00m:\n\u001b[1;32m-> 1518\u001b[0m     \u001b[38;5;28;01mreturn\u001b[39;00m \u001b[38;5;28mself\u001b[39m\u001b[38;5;241m.\u001b[39m_call_impl(\u001b[38;5;241m*\u001b[39margs, \u001b[38;5;241m*\u001b[39m\u001b[38;5;241m*\u001b[39mkwargs)\n",
      "File \u001b[1;32m~\\anaconda3\\Lib\\site-packages\\torch\\nn\\modules\\module.py:1527\u001b[0m, in \u001b[0;36mModule._call_impl\u001b[1;34m(self, *args, **kwargs)\u001b[0m\n\u001b[0;32m   1522\u001b[0m \u001b[38;5;66;03m# If we don't have any hooks, we want to skip the rest of the logic in\u001b[39;00m\n\u001b[0;32m   1523\u001b[0m \u001b[38;5;66;03m# this function, and just call forward.\u001b[39;00m\n\u001b[0;32m   1524\u001b[0m \u001b[38;5;28;01mif\u001b[39;00m \u001b[38;5;129;01mnot\u001b[39;00m (\u001b[38;5;28mself\u001b[39m\u001b[38;5;241m.\u001b[39m_backward_hooks \u001b[38;5;129;01mor\u001b[39;00m \u001b[38;5;28mself\u001b[39m\u001b[38;5;241m.\u001b[39m_backward_pre_hooks \u001b[38;5;129;01mor\u001b[39;00m \u001b[38;5;28mself\u001b[39m\u001b[38;5;241m.\u001b[39m_forward_hooks \u001b[38;5;129;01mor\u001b[39;00m \u001b[38;5;28mself\u001b[39m\u001b[38;5;241m.\u001b[39m_forward_pre_hooks\n\u001b[0;32m   1525\u001b[0m         \u001b[38;5;129;01mor\u001b[39;00m _global_backward_pre_hooks \u001b[38;5;129;01mor\u001b[39;00m _global_backward_hooks\n\u001b[0;32m   1526\u001b[0m         \u001b[38;5;129;01mor\u001b[39;00m _global_forward_hooks \u001b[38;5;129;01mor\u001b[39;00m _global_forward_pre_hooks):\n\u001b[1;32m-> 1527\u001b[0m     \u001b[38;5;28;01mreturn\u001b[39;00m forward_call(\u001b[38;5;241m*\u001b[39margs, \u001b[38;5;241m*\u001b[39m\u001b[38;5;241m*\u001b[39mkwargs)\n\u001b[0;32m   1529\u001b[0m \u001b[38;5;28;01mtry\u001b[39;00m:\n\u001b[0;32m   1530\u001b[0m     result \u001b[38;5;241m=\u001b[39m \u001b[38;5;28;01mNone\u001b[39;00m\n",
      "File \u001b[1;32m~\\anaconda3\\Lib\\site-packages\\torch\\nn\\modules\\loss.py:216\u001b[0m, in \u001b[0;36mNLLLoss.forward\u001b[1;34m(self, input, target)\u001b[0m\n\u001b[0;32m    215\u001b[0m \u001b[38;5;28;01mdef\u001b[39;00m \u001b[38;5;21mforward\u001b[39m(\u001b[38;5;28mself\u001b[39m, \u001b[38;5;28minput\u001b[39m: Tensor, target: Tensor) \u001b[38;5;241m-\u001b[39m\u001b[38;5;241m>\u001b[39m Tensor:\n\u001b[1;32m--> 216\u001b[0m     \u001b[38;5;28;01mreturn\u001b[39;00m F\u001b[38;5;241m.\u001b[39mnll_loss(\u001b[38;5;28minput\u001b[39m, target, weight\u001b[38;5;241m=\u001b[39m\u001b[38;5;28mself\u001b[39m\u001b[38;5;241m.\u001b[39mweight, ignore_index\u001b[38;5;241m=\u001b[39m\u001b[38;5;28mself\u001b[39m\u001b[38;5;241m.\u001b[39mignore_index, reduction\u001b[38;5;241m=\u001b[39m\u001b[38;5;28mself\u001b[39m\u001b[38;5;241m.\u001b[39mreduction)\n",
      "File \u001b[1;32m~\\anaconda3\\Lib\\site-packages\\torch\\nn\\functional.py:2729\u001b[0m, in \u001b[0;36mnll_loss\u001b[1;34m(input, target, weight, size_average, ignore_index, reduce, reduction)\u001b[0m\n\u001b[0;32m   2727\u001b[0m \u001b[38;5;28;01mif\u001b[39;00m size_average \u001b[38;5;129;01mis\u001b[39;00m \u001b[38;5;129;01mnot\u001b[39;00m \u001b[38;5;28;01mNone\u001b[39;00m \u001b[38;5;129;01mor\u001b[39;00m reduce \u001b[38;5;129;01mis\u001b[39;00m \u001b[38;5;129;01mnot\u001b[39;00m \u001b[38;5;28;01mNone\u001b[39;00m:\n\u001b[0;32m   2728\u001b[0m     reduction \u001b[38;5;241m=\u001b[39m _Reduction\u001b[38;5;241m.\u001b[39mlegacy_get_string(size_average, reduce)\n\u001b[1;32m-> 2729\u001b[0m \u001b[38;5;28;01mreturn\u001b[39;00m torch\u001b[38;5;241m.\u001b[39m_C\u001b[38;5;241m.\u001b[39m_nn\u001b[38;5;241m.\u001b[39mnll_loss_nd(\u001b[38;5;28minput\u001b[39m, target, weight, _Reduction\u001b[38;5;241m.\u001b[39mget_enum(reduction), ignore_index)\n",
      "\u001b[1;31mRuntimeError\u001b[0m: 0D or 1D target tensor expected, multi-target not supported"
     ]
    }
   ],
   "source": [
    "nvp = RealNVP(2, 5, 5).train_inn(X_train, 512, 100)"
   ]
  },
  {
   "cell_type": "code",
   "execution_count": null,
   "id": "5d4e3c50",
   "metadata": {},
   "outputs": [],
   "source": []
  }
 ],
 "metadata": {
  "kernelspec": {
   "display_name": "Python 3 (ipykernel)",
   "language": "python",
   "name": "python3"
  },
  "language_info": {
   "codemirror_mode": {
    "name": "ipython",
    "version": 3
   },
   "file_extension": ".py",
   "mimetype": "text/x-python",
   "name": "python",
   "nbconvert_exporter": "python",
   "pygments_lexer": "ipython3",
   "version": "3.11.4"
  }
 },
 "nbformat": 4,
 "nbformat_minor": 5
}
