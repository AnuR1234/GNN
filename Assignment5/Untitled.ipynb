{
 "cells": [
  {
   "cell_type": "code",
   "execution_count": 1,
   "id": "5389e1f8",
   "metadata": {},
   "outputs": [],
   "source": [
    "import numpy as np"
   ]
  },
  {
   "cell_type": "code",
   "execution_count": null,
   "id": "061390f1",
   "metadata": {},
   "outputs": [],
   "source": []
  },
  {
   "cell_type": "code",
   "execution_count": null,
   "id": "aa3692a0",
   "metadata": {},
   "outputs": [],
   "source": []
  },
  {
   "cell_type": "code",
   "execution_count": 240,
   "id": "3bc6045a",
   "metadata": {},
   "outputs": [],
   "source": [
    "def fill_theta_matrix(functions, data):\n",
    "    assert type(data) == type(functions) == np.ndarray\n",
    "    theta = np.zeros((data.shape[0], functions.shape[0]))\n",
    "    for i in range(functions.shape[0]):\n",
    "        function = functions[i]\n",
    "        theta[:, i] = function(data[:, 0], data[:, 1])\n",
    "    return theta"
   ]
  },
  {
   "cell_type": "code",
   "execution_count": 241,
   "id": "2034ed60",
   "metadata": {},
   "outputs": [],
   "source": [
    "def pendulum_rhs(zt, dzt, coefficients, terms):\n",
    "    #selected_terms =   [lambda x: terms[i]*coefficients[i] for i in range(len(terms)) if abs(coefficients[i]) > 1E-12]\n",
    "    filled_theta_matrix = fill_theta_matrix(terms, np.array([zt, dzt]).T)\n",
    "    print(filled_theta_matrix)\n",
    "    return filled_theta_matrix @ coefficients.T\n",
    "    "
   ]
  },
  {
   "cell_type": "code",
   "execution_count": 243,
   "id": "2af9c82d",
   "metadata": {},
   "outputs": [
    {
     "name": "stdout",
     "output_type": "stream",
     "text": [
      "[[ 0.84147098  1.          3.        ]\n",
      " [ 0.90929743  2.          8.        ]\n",
      " [ 0.14112001  3.         15.        ]]\n"
     ]
    },
    {
     "data": {
      "text/plain": [
       "array([[ 3.],\n",
       "       [ 8.],\n",
       "       [15.]])"
      ]
     },
     "execution_count": 243,
     "metadata": {},
     "output_type": "execute_result"
    }
   ],
   "source": [
    "pendulum_rhs(np.array([1,2,3]), np.array([3,4,5]), np.array([[0, 0,1]]), np.array([lambda x,y: np.sin(x), lambda x, y: x, lambda x,y: x*y]))"
   ]
  },
  {
   "cell_type": "code",
   "execution_count": null,
   "id": "ccde0f83",
   "metadata": {},
   "outputs": [],
   "source": []
  },
  {
   "cell_type": "code",
   "execution_count": null,
   "id": "54ac70b9",
   "metadata": {},
   "outputs": [],
   "source": []
  }
 ],
 "metadata": {
  "kernelspec": {
   "display_name": "Python 3 (ipykernel)",
   "language": "python",
   "name": "python3"
  },
  "language_info": {
   "codemirror_mode": {
    "name": "ipython",
    "version": 3
   },
   "file_extension": ".py",
   "mimetype": "text/x-python",
   "name": "python",
   "nbconvert_exporter": "python",
   "pygments_lexer": "ipython3",
   "version": "3.11.4"
  }
 },
 "nbformat": 4,
 "nbformat_minor": 5
}
